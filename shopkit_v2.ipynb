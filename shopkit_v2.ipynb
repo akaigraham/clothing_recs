{
 "cells": [
  {
   "cell_type": "markdown",
   "metadata": {},
   "source": [
    "# Initial Recommendation Engine"
   ]
  },
  {
   "cell_type": "markdown",
   "metadata": {},
   "source": [
    "*Given*: The profile of the user and possibly some situational context, i.e. user making a purchase or rating an item.\n",
    "\n",
    "*Required*: Creating a set of items, and creating a score for each recommendable item in that set.\n",
    "\n",
    "*Profile*: User profile may contain past purchases, ratings in either implicit or explicit form, demographics and interest scores for item features.\n",
    "\n",
    "*Problem*: We want to learn a function that predicts the relevance score for a given (typically unseen) item based on user profile and context."
   ]
  },
  {
   "cell_type": "markdown",
   "metadata": {},
   "source": [
    "## Utility Matrix"
   ]
  },
  {
   "cell_type": "markdown",
   "metadata": {},
   "source": [
    "In a recommendation system there are two types of entities: `users` and `items`. Users have preferences for certain items, and these preferences must be teased out of the data. The data itself is represented as a `utility matrix`, giving for each user-item pair, a value that represents what is known about the degree of preference of that user for that item. \n",
    "\n",
    "Values come from an ordered set (e.g. integers 1-5 representing the number of stars that the user gave as a rating for that item). We assume that the matrix is sparse, meaning that most entries are unkown. \n",
    "\n",
    "The goal of a recommendation system is to predict the blanks in the utility matrix. In many cases, it is not necessary to predict every blank entry in a utility matrix. Rather, it is only necessary to discover some entries in each row that are likely to be high. In most applications, the recommendation system does not offer users a ranking of all items, but rather suggests a few that the user should value highly. It may not even be necessary to find all items with the highest expected ratings, but only to find a large subset of those with the highest ratings. \n",
    "\n",
    "Without a utility matrix, it is almost impossible to recommend items. There are two general approaches to acquiring data to fill in matrix:\n",
    "1. Ask users to rate items. This approach is limited in its effectiveness as many users are unwilling to provide responses\n",
    "2. Make inferences from user behavior. If a user buys a product, it can likely be said that the user \"likes\" that item. This sort of rating system only really has one value: 1 means that the user likes the item. If a user views an item, we can say that they are interested in it as well"
   ]
  },
  {
   "cell_type": "markdown",
   "metadata": {},
   "source": [
    "## Content-Based Recommenders\n",
    "Content-based systems focus on properties of items. Similarity of items is determined by measuring the similarity in their properties."
   ]
  },
  {
   "cell_type": "markdown",
   "metadata": {},
   "source": [
    "#### Item Profiles\n",
    "In a content-based system we must construct for each item a `profile`, which is a record or collection of records representing important characteristics of that item. \n",
    "\n",
    "Document Feature Extraction -- identification of words that characterize the topic of a document. First, eliminate stop words. For the remaining words, compute the TF-IDF score for each word in the document. The ones with the highest scores are the words that characterize the document. We may then take the n words with the highest TF-IDF scores. \n",
    "\n",
    "Now, documents are represented by sets of words. We could use several distance measurements:\n",
    "- Jaccard distance between the sets of words \n",
    "- Cosine distance between the sets, treated as vectors\n",
    "\n",
    "Ultimate goal for content-based recommendation is to create both an item profile consisting of feature-value pairs and a user profile summarizing the preferences of the user, based off their row of the utility matrix. \n",
    "\n",
    "Represent features as vectors -- for example, if one feature of movies is the set of actors, then imagine there is a component for each actor, with 1 if the actor is in the movie, and 0 if not. \n",
    "\n",
    "There is also another class of features that is not readily represented by Boolean vectors: those features that are numerical. For instance, we might take the average rating for movies to be a feature, and this average is a real number. It does not make sense to have one component for each of the possible average ratings, and doing so would cause us to lose the structure implicit in the numbers. That is, two ratings that are close should be considered more similar than widely different ratings. \n",
    "\n",
    "Numerical features should be represented by single components of vectors representing items. Those components hold the exact value of that feature. \n",
    "\n",
    "There is no harm having some components of the vectors be Boolean and others be real-valued or integer-valued. We can still compute the cosine distance between vectors, although if we do so, we should give some thought to the appropriate scaling of the non-Boolean components, so that they neither dominate the calculation nor are irrelevant. "
   ]
  },
  {
   "cell_type": "markdown",
   "metadata": {},
   "source": [
    "#### User Profiles\n",
    "We need not only create vectors describing items; we also need to create vectors with the same components that describe the user's preferences. We have the utility matrix representing the connection between users and items. \n",
    "\n",
    "The best estimate we can make regarding which items the user likes is some aggregation of the profiles of those items. If the utility matrix has only 1's, then the natural aggregation is the average of the components of the vectors representing the item profiles for the items in which the utility matrix has 1 for that user. \n",
    "\n",
    "Example: suppose items are movies, represented by Boolean profiles with components corresponding to actors. Also, the utility matrix has a 1 if the user has seen the movie and is blank otherwise. If 20% of the movies that user U likes have Julia Roberts as one of the actors, then the user profile for U will have 0.2 in the component for Julia Roberts. "
   ]
  },
  {
   "cell_type": "markdown",
   "metadata": {},
   "source": [
    "#### Classification Algorithms"
   ]
  },
  {
   "cell_type": "markdown",
   "metadata": {},
   "source": [
    "Regard the given data as a training set, and for each user, build a classifier that predicts the rating of all items. \n",
    "\n",
    "One example: Decision Trees -- in our case the decision at the nodes would be likes or not likes. Each interior node is a condition on the objects being classified. "
   ]
  },
  {
   "cell_type": "markdown",
   "metadata": {},
   "source": [
    "# ----------------------------------"
   ]
  },
  {
   "cell_type": "markdown",
   "metadata": {},
   "source": [
    "## Import Libraries"
   ]
  },
  {
   "cell_type": "code",
   "execution_count": 1,
   "metadata": {},
   "outputs": [],
   "source": [
    "import numpy as np \n",
    "import pandas as pd\n",
    "from sklearn.metrics.pairwise import cosine_similarity, linear_kernel\n",
    "from sklearn.metrics import mean_squared_error\n",
    "from sklearn.model_selection import train_test_split \n",
    "from sklearn.feature_extraction.text import TfidfVectorizer\n",
    "from bs4 import BeautifulSoup\n",
    "\n",
    "# NLP Libraries\n",
    "import nltk \n",
    "from nltk.corpus import stopwords \n",
    "from nltk.collocations import * \n",
    "from nltk.stem.wordnet import WordNetLemmatizer\n",
    "import string \n",
    "import re \n",
    "\n"
   ]
  },
  {
   "cell_type": "markdown",
   "metadata": {},
   "source": [
    "## Load and Process Data"
   ]
  },
  {
   "cell_type": "code",
   "execution_count": 2,
   "metadata": {},
   "outputs": [],
   "source": [
    "# import data from csv \n",
    "df = pd.read_csv('/Users/akg/Documents/shopkit/clothing_recs/complete_product_lists/halfdays_unexploded.csv')"
   ]
  },
  {
   "cell_type": "code",
   "execution_count": 3,
   "metadata": {},
   "outputs": [
    {
     "data": {
      "text/plain": [
       "Index(['id', 'title', 'body_html', 'vendor', 'product_type', 'created_at',\n",
       "       'handle', 'updated_at', 'published_at', 'template_suffix', 'status',\n",
       "       'published_scope', 'tags', 'admin_graphql_api_id', 'variants',\n",
       "       'options', 'images', 'image.id', 'image.position', 'image.created_at',\n",
       "       'image.updated_at', 'image.alt', 'image.width', 'image.height',\n",
       "       'image.src', 'image.variant_ids', 'image.admin_graphql_api_id',\n",
       "       'image'],\n",
       "      dtype='object')"
      ]
     },
     "execution_count": 3,
     "metadata": {},
     "output_type": "execute_result"
    }
   ],
   "source": [
    "df.columns"
   ]
  },
  {
   "cell_type": "code",
   "execution_count": 4,
   "metadata": {},
   "outputs": [
    {
     "data": {
      "text/plain": [
       "46"
      ]
     },
     "execution_count": 4,
     "metadata": {},
     "output_type": "execute_result"
    }
   ],
   "source": [
    "len(df)"
   ]
  },
  {
   "cell_type": "code",
   "execution_count": 5,
   "metadata": {},
   "outputs": [],
   "source": [
    "# filter relevant columns\n",
    "df = df[['id', 'title', 'body_html', 'vendor', 'product_type', 'handle', \n",
    "         'status', 'tags']]"
   ]
  },
  {
   "cell_type": "code",
   "execution_count": 6,
   "metadata": {},
   "outputs": [],
   "source": [
    "# remove test products\n",
    "df = df.loc[df['title'] != 'A Test Product']"
   ]
  },
  {
   "cell_type": "code",
   "execution_count": 7,
   "metadata": {},
   "outputs": [
    {
     "data": {
      "text/plain": [
       "45"
      ]
     },
     "execution_count": 7,
     "metadata": {},
     "output_type": "execute_result"
    }
   ],
   "source": [
    "len(df)"
   ]
  },
  {
   "cell_type": "code",
   "execution_count": 8,
   "metadata": {},
   "outputs": [],
   "source": [
    "# Fill missing body html with empty string\n",
    "df['body_html'] = df['body_html'].fillna(value='')"
   ]
  },
  {
   "cell_type": "code",
   "execution_count": 9,
   "metadata": {},
   "outputs": [],
   "source": [
    "# further downselect features to use for initial recommendations \n",
    "clean_df = df.copy()\n",
    "clean_df = clean_df[['id', 'title', 'body_html', 'vendor', 'product_type',\n",
    "                     'status', 'tags']]"
   ]
  },
  {
   "cell_type": "code",
   "execution_count": 10,
   "metadata": {},
   "outputs": [],
   "source": [
    "# Remove Archived Products\n",
    "clean_df = clean_df.loc[clean_df['status'] != 'archived']"
   ]
  },
  {
   "cell_type": "code",
   "execution_count": 11,
   "metadata": {},
   "outputs": [],
   "source": [
    "# Remove Route Package Protection\n",
    "clean_df = clean_df.loc[clean_df['title'] != 'Route Package Protection']\n",
    "\n",
    "# Remove Navidium Shipping Protection\n",
    "clean_df = clean_df.loc[clean_df['title'] != 'Navidium Shipping Protection']"
   ]
  },
  {
   "cell_type": "code",
   "execution_count": 12,
   "metadata": {},
   "outputs": [],
   "source": [
    "# Remove all remaining test products \n",
    "clean_df = clean_df.loc[~clean_df['title'].str.contains('TEST')]"
   ]
  },
  {
   "cell_type": "code",
   "execution_count": 13,
   "metadata": {},
   "outputs": [],
   "source": [
    "# Remove Gift Cards\n",
    "clean_df = clean_df.loc[clean_df['title'] != 'Gift Card']"
   ]
  },
  {
   "cell_type": "code",
   "execution_count": 14,
   "metadata": {},
   "outputs": [],
   "source": [
    "# Extract paragraph from body_html as description \n",
    "clean_df['description'] = clean_df['body_html'].apply(lambda x: BeautifulSoup(x, 'html.parser').p if BeautifulSoup(x, 'html.parser').p else x)"
   ]
  },
  {
   "cell_type": "code",
   "execution_count": 15,
   "metadata": {},
   "outputs": [],
   "source": [
    "# fill missing tag values with empty string \n",
    "clean_df['tags'] = clean_df['tags'].fillna(value='')"
   ]
  },
  {
   "cell_type": "markdown",
   "metadata": {},
   "source": [
    "## Apply NLP to Descriptions"
   ]
  },
  {
   "cell_type": "code",
   "execution_count": 16,
   "metadata": {},
   "outputs": [],
   "source": [
    "# set up stopwords \n",
    "# stopwords_list = stopwords.words('english') + list(string.punctuation)\n",
    "stopwords_list = list(string.punctuation)\n",
    "\n",
    "# add p and /p to stopwords list \n",
    "stopwords_list += ['p', '/p']"
   ]
  },
  {
   "cell_type": "code",
   "execution_count": 17,
   "metadata": {},
   "outputs": [],
   "source": [
    "# function to process text descriptions\n",
    "def process_product_description(description: str, stopwords: list) -> list:\n",
    "    \n",
    "    # tokenize\n",
    "    tokens = nltk.word_tokenize(description)\n",
    "    \n",
    "    # lemmatize\n",
    "    lemmatizer = WordNetLemmatizer()\n",
    "    tokens = [lemmatizer.lemmatize(token) for token in tokens]\n",
    "    \n",
    "    # remove stopwords and lowercase\n",
    "    processed_tokens = [token.lower() for token in tokens if token.lower() not in stopwords]\n",
    "    \n",
    "    # return processed_tokens\n",
    "    return processed_tokens"
   ]
  },
  {
   "cell_type": "code",
   "execution_count": 18,
   "metadata": {},
   "outputs": [],
   "source": [
    "# process descriptions\n",
    "clean_df['description_tokens'] = clean_df.apply(lambda x: process_product_description(str(x.description), stopwords_list), axis=1)"
   ]
  },
  {
   "cell_type": "code",
   "execution_count": 19,
   "metadata": {},
   "outputs": [],
   "source": [
    "# replace description with processed, joined description\n",
    "clean_df['description'] = clean_df['description_tokens'].apply(lambda x: \" \".join(x))"
   ]
  },
  {
   "cell_type": "code",
   "execution_count": 20,
   "metadata": {},
   "outputs": [],
   "source": [
    "clean_df = clean_df.reset_index(drop=True)"
   ]
  },
  {
   "cell_type": "code",
   "execution_count": 21,
   "metadata": {},
   "outputs": [
    {
     "data": {
      "text/plain": [
       "(30, 219)"
      ]
     },
     "execution_count": 21,
     "metadata": {},
     "output_type": "execute_result"
    }
   ],
   "source": [
    "# Build Vectorizer\n",
    "tfidf = TfidfVectorizer(stop_words='english')\n",
    "\n",
    "# construct tfidf matrix \n",
    "description_matrix = tfidf.fit_transform(clean_df['description'])\n",
    "\n",
    "# output shape \n",
    "description_matrix.shape"
   ]
  },
  {
   "cell_type": "markdown",
   "metadata": {},
   "source": [
    " Every product has 227 features (words). In order to find the similarity between the descriptions we can `cosine similarity`. In our case, the linear kernel function will compute the same for us."
   ]
  },
  {
   "cell_type": "code",
   "execution_count": 22,
   "metadata": {},
   "outputs": [
    {
     "data": {
      "text/plain": [
       "array([[0.        , 0.        , 0.        , 0.        , 0.        ,\n",
       "        0.        , 0.        , 0.        , 0.        , 0.        ,\n",
       "        0.        , 0.        , 0.        , 0.        , 0.        ,\n",
       "        0.        , 0.        , 0.        , 0.        , 0.        ,\n",
       "        0.        , 0.        , 0.        , 0.        , 0.        ,\n",
       "        0.        , 0.        , 0.        , 0.        , 0.        ],\n",
       "       [0.        , 1.        , 1.        , 0.        , 0.        ,\n",
       "        0.        , 0.25072523, 0.25072523, 0.        , 0.14485776,\n",
       "        0.        , 0.        , 0.        , 0.        , 0.        ,\n",
       "        0.        , 0.        , 0.        , 0.03286786, 0.05816447,\n",
       "        0.11786709, 0.        , 0.05041585, 0.        , 0.        ,\n",
       "        0.03624914, 0.        , 0.        , 0.        , 0.        ],\n",
       "       [0.        , 1.        , 1.        , 0.        , 0.        ,\n",
       "        0.        , 0.25072523, 0.25072523, 0.        , 0.14485776,\n",
       "        0.        , 0.        , 0.        , 0.        , 0.        ,\n",
       "        0.        , 0.        , 0.        , 0.03286786, 0.05816447,\n",
       "        0.11786709, 0.        , 0.05041585, 0.        , 0.        ,\n",
       "        0.03624914, 0.        , 0.        , 0.        , 0.        ],\n",
       "       [0.        , 0.        , 0.        , 1.        , 0.        ,\n",
       "        0.04217078, 0.07737158, 0.07737158, 0.        , 0.02369017,\n",
       "        0.        , 0.        , 0.        , 0.        , 0.        ,\n",
       "        0.        , 0.        , 0.        , 0.08644977, 0.03925231,\n",
       "        0.05170143, 0.        , 0.21726849, 0.        , 0.        ,\n",
       "        0.13014984, 0.01946121, 0.15332553, 0.05001645, 0.        ],\n",
       "       [0.        , 0.        , 0.        , 0.        , 0.        ,\n",
       "        0.        , 0.        , 0.        , 0.        , 0.        ,\n",
       "        0.        , 0.        , 0.        , 0.        , 0.        ,\n",
       "        0.        , 0.        , 0.        , 0.        , 0.        ,\n",
       "        0.        , 0.        , 0.        , 0.        , 0.        ,\n",
       "        0.        , 0.        , 0.        , 0.        , 0.        ],\n",
       "       [0.        , 0.        , 0.        , 0.04217078, 0.        ,\n",
       "        1.        , 0.        , 0.        , 0.        , 0.        ,\n",
       "        0.        , 0.06101   , 0.        , 0.        , 0.        ,\n",
       "        0.        , 0.        , 0.        , 0.2669171 , 0.04538492,\n",
       "        0.08140077, 0.        , 0.        , 0.        , 0.        ,\n",
       "        0.05016129, 0.16437448, 0.        , 0.        , 0.        ],\n",
       "       [0.        , 0.25072523, 0.25072523, 0.07737158, 0.        ,\n",
       "        0.        , 1.        , 1.        , 0.        , 0.15429047,\n",
       "        0.        , 0.        , 0.        , 0.        , 0.        ,\n",
       "        0.        , 0.        , 0.        , 0.03591054, 0.02780484,\n",
       "        0.12088009, 0.0724088 , 0.04820141, 0.06135467, 0.        ,\n",
       "        0.06931391, 0.07837639, 0.        , 0.09882002, 0.        ],\n",
       "       [0.        , 0.25072523, 0.25072523, 0.07737158, 0.        ,\n",
       "        0.        , 1.        , 1.        , 0.        , 0.15429047,\n",
       "        0.        , 0.        , 0.        , 0.        , 0.        ,\n",
       "        0.        , 0.        , 0.        , 0.03591054, 0.02780484,\n",
       "        0.12088009, 0.0724088 , 0.04820141, 0.06135467, 0.        ,\n",
       "        0.06931391, 0.07837639, 0.        , 0.09882002, 0.        ],\n",
       "       [0.        , 0.        , 0.        , 0.        , 0.        ,\n",
       "        0.        , 0.        , 0.        , 0.        , 0.        ,\n",
       "        0.        , 0.        , 0.        , 0.        , 0.        ,\n",
       "        0.        , 0.        , 0.        , 0.        , 0.        ,\n",
       "        0.        , 0.        , 0.        , 0.        , 0.        ,\n",
       "        0.        , 0.        , 0.        , 0.        , 0.        ],\n",
       "       [0.        , 0.14485776, 0.14485776, 0.02369017, 0.        ,\n",
       "        0.        , 0.15429047, 0.15429047, 0.        , 1.        ,\n",
       "        0.        , 0.08830395, 0.        , 0.        , 0.        ,\n",
       "        0.        , 0.        , 0.        , 0.02749303, 0.        ,\n",
       "        0.24003046, 0.0295648 , 0.04419849, 0.0234865 , 0.        ,\n",
       "        0.06183479, 0.04429368, 0.02552878, 0.03495743, 0.        ],\n",
       "       [0.        , 0.        , 0.        , 0.        , 0.        ,\n",
       "        0.        , 0.        , 0.        , 0.        , 0.        ,\n",
       "        0.        , 0.        , 0.        , 0.        , 0.        ,\n",
       "        0.        , 0.        , 0.        , 0.        , 0.        ,\n",
       "        0.        , 0.        , 0.        , 0.        , 0.        ,\n",
       "        0.        , 0.        , 0.        , 0.        , 0.        ],\n",
       "       [0.        , 0.        , 0.        , 0.        , 0.        ,\n",
       "        0.06101   , 0.        , 0.        , 0.        , 0.08830395,\n",
       "        0.        , 1.        , 0.        , 0.        , 0.        ,\n",
       "        0.        , 0.        , 0.        , 0.09772222, 0.        ,\n",
       "        0.        , 0.        , 0.        , 0.04638655, 0.        ,\n",
       "        0.        , 0.        , 0.05284366, 0.11230977, 0.        ],\n",
       "       [0.        , 0.        , 0.        , 0.        , 0.        ,\n",
       "        0.        , 0.        , 0.        , 0.        , 0.        ,\n",
       "        0.        , 0.        , 0.        , 0.        , 0.        ,\n",
       "        0.        , 0.        , 0.        , 0.        , 0.        ,\n",
       "        0.        , 0.        , 0.        , 0.        , 0.        ,\n",
       "        0.        , 0.        , 0.        , 0.        , 0.        ],\n",
       "       [0.        , 0.        , 0.        , 0.        , 0.        ,\n",
       "        0.        , 0.        , 0.        , 0.        , 0.        ,\n",
       "        0.        , 0.        , 0.        , 0.        , 0.        ,\n",
       "        0.        , 0.        , 0.        , 0.        , 0.        ,\n",
       "        0.        , 0.        , 0.        , 0.        , 0.        ,\n",
       "        0.        , 0.        , 0.        , 0.        , 0.        ],\n",
       "       [0.        , 0.        , 0.        , 0.        , 0.        ,\n",
       "        0.        , 0.        , 0.        , 0.        , 0.        ,\n",
       "        0.        , 0.        , 0.        , 0.        , 0.        ,\n",
       "        0.        , 0.        , 0.        , 0.        , 0.        ,\n",
       "        0.        , 0.        , 0.        , 0.        , 0.        ,\n",
       "        0.        , 0.        , 0.        , 0.        , 0.        ],\n",
       "       [0.        , 0.        , 0.        , 0.        , 0.        ,\n",
       "        0.        , 0.        , 0.        , 0.        , 0.        ,\n",
       "        0.        , 0.        , 0.        , 0.        , 0.        ,\n",
       "        0.        , 0.        , 0.        , 0.        , 0.        ,\n",
       "        0.        , 0.        , 0.        , 0.        , 0.        ,\n",
       "        0.        , 0.        , 0.        , 0.        , 0.        ],\n",
       "       [0.        , 0.        , 0.        , 0.        , 0.        ,\n",
       "        0.        , 0.        , 0.        , 0.        , 0.        ,\n",
       "        0.        , 0.        , 0.        , 0.        , 0.        ,\n",
       "        0.        , 0.        , 0.        , 0.        , 0.        ,\n",
       "        0.        , 0.        , 0.        , 0.        , 0.        ,\n",
       "        0.        , 0.        , 0.        , 0.        , 0.        ],\n",
       "       [0.        , 0.        , 0.        , 0.        , 0.        ,\n",
       "        0.        , 0.        , 0.        , 0.        , 0.        ,\n",
       "        0.        , 0.        , 0.        , 0.        , 0.        ,\n",
       "        0.        , 0.        , 0.        , 0.        , 0.        ,\n",
       "        0.        , 0.        , 0.        , 0.        , 0.        ,\n",
       "        0.        , 0.        , 0.        , 0.        , 0.        ],\n",
       "       [0.        , 0.03286786, 0.03286786, 0.08644977, 0.        ,\n",
       "        0.2669171 , 0.03591054, 0.03591054, 0.        , 0.02749303,\n",
       "        0.        , 0.09772222, 0.        , 0.        , 0.        ,\n",
       "        0.        , 0.        , 0.        , 1.        , 0.        ,\n",
       "        0.15264236, 0.0783406 , 0.        , 0.        , 0.        ,\n",
       "        0.06842992, 0.09034089, 0.        , 0.03868589, 0.        ],\n",
       "       [0.        , 0.05816447, 0.05816447, 0.03925231, 0.        ,\n",
       "        0.04538492, 0.02780484, 0.02780484, 0.        , 0.        ,\n",
       "        0.        , 0.        , 0.        , 0.        , 0.        ,\n",
       "        0.        , 0.        , 0.        , 0.        , 1.        ,\n",
       "        0.01857982, 0.        , 0.04880787, 0.        , 0.        ,\n",
       "        0.07796604, 0.02623842, 0.03282135, 0.09877197, 0.        ],\n",
       "       [0.        , 0.11786709, 0.11786709, 0.05170143, 0.        ,\n",
       "        0.08140077, 0.12088009, 0.12088009, 0.        , 0.24003046,\n",
       "        0.        , 0.        , 0.        , 0.        , 0.        ,\n",
       "        0.        , 0.        , 0.        , 0.15264236, 0.01857982,\n",
       "        1.        , 0.05160898, 0.        , 0.        , 0.        ,\n",
       "        0.0539701 , 0.04944723, 0.04456361, 0.        , 0.        ],\n",
       "       [0.        , 0.        , 0.        , 0.        , 0.        ,\n",
       "        0.        , 0.0724088 , 0.0724088 , 0.        , 0.0295648 ,\n",
       "        0.        , 0.        , 0.        , 0.        , 0.        ,\n",
       "        0.        , 0.        , 0.        , 0.0783406 , 0.        ,\n",
       "        0.05160898, 1.        , 0.        , 0.02795013, 0.        ,\n",
       "        0.08189189, 0.        , 0.15746947, 0.        , 0.        ],\n",
       "       [0.        , 0.05041585, 0.05041585, 0.21726849, 0.        ,\n",
       "        0.        , 0.04820141, 0.04820141, 0.        , 0.04419849,\n",
       "        0.        , 0.        , 0.        , 0.        , 0.        ,\n",
       "        0.        , 0.        , 0.        , 0.        , 0.04880787,\n",
       "        0.        , 0.        , 1.        , 0.        , 0.        ,\n",
       "        0.        , 0.        , 0.        , 0.        , 0.        ],\n",
       "       [0.        , 0.        , 0.        , 0.        , 0.        ,\n",
       "        0.        , 0.06135467, 0.06135467, 0.        , 0.0234865 ,\n",
       "        0.        , 0.04638655, 0.        , 0.        , 0.        ,\n",
       "        0.        , 0.        , 0.        , 0.        , 0.        ,\n",
       "        0.        , 0.02795013, 0.        , 1.        , 0.        ,\n",
       "        0.05733078, 0.        , 0.        , 0.04396937, 0.        ],\n",
       "       [0.        , 0.        , 0.        , 0.        , 0.        ,\n",
       "        0.        , 0.        , 0.        , 0.        , 0.        ,\n",
       "        0.        , 0.        , 0.        , 0.        , 0.        ,\n",
       "        0.        , 0.        , 0.        , 0.        , 0.        ,\n",
       "        0.        , 0.        , 0.        , 0.        , 0.        ,\n",
       "        0.        , 0.        , 0.        , 0.        , 0.        ],\n",
       "       [0.        , 0.03624914, 0.03624914, 0.13014984, 0.        ,\n",
       "        0.05016129, 0.06931391, 0.06931391, 0.        , 0.06183479,\n",
       "        0.        , 0.        , 0.        , 0.        , 0.        ,\n",
       "        0.        , 0.        , 0.        , 0.06842992, 0.07796604,\n",
       "        0.0539701 , 0.08189189, 0.        , 0.05733078, 0.        ,\n",
       "        1.        , 0.        , 0.03627552, 0.0496733 , 0.        ],\n",
       "       [0.        , 0.        , 0.        , 0.01946121, 0.        ,\n",
       "        0.16437448, 0.07837639, 0.07837639, 0.        , 0.04429368,\n",
       "        0.        , 0.        , 0.        , 0.        , 0.        ,\n",
       "        0.        , 0.        , 0.        , 0.09034089, 0.02623842,\n",
       "        0.04944723, 0.        , 0.        , 0.        , 0.        ,\n",
       "        0.        , 1.        , 0.02441607, 0.02871714, 0.        ],\n",
       "       [0.        , 0.        , 0.        , 0.15332553, 0.        ,\n",
       "        0.        , 0.        , 0.        , 0.        , 0.02552878,\n",
       "        0.        , 0.05284366, 0.        , 0.        , 0.        ,\n",
       "        0.        , 0.        , 0.        , 0.        , 0.03282135,\n",
       "        0.04456361, 0.15746947, 0.        , 0.        , 0.        ,\n",
       "        0.03627552, 0.02441607, 1.        , 0.08364386, 0.        ],\n",
       "       [0.        , 0.        , 0.        , 0.05001645, 0.        ,\n",
       "        0.        , 0.09882002, 0.09882002, 0.        , 0.03495743,\n",
       "        0.        , 0.11230977, 0.        , 0.        , 0.        ,\n",
       "        0.        , 0.        , 0.        , 0.03868589, 0.09877197,\n",
       "        0.        , 0.        , 0.        , 0.04396937, 0.        ,\n",
       "        0.0496733 , 0.02871714, 0.08364386, 1.        , 0.        ],\n",
       "       [0.        , 0.        , 0.        , 0.        , 0.        ,\n",
       "        0.        , 0.        , 0.        , 0.        , 0.        ,\n",
       "        0.        , 0.        , 0.        , 0.        , 0.        ,\n",
       "        0.        , 0.        , 0.        , 0.        , 0.        ,\n",
       "        0.        , 0.        , 0.        , 0.        , 0.        ,\n",
       "        0.        , 0.        , 0.        , 0.        , 0.        ]])"
      ]
     },
     "execution_count": 22,
     "metadata": {},
     "output_type": "execute_result"
    }
   ],
   "source": [
    "# build similarity matrix \n",
    "similarity_matrix = linear_kernel(description_matrix, description_matrix)\n",
    "similarity_matrix"
   ]
  },
  {
   "cell_type": "markdown",
   "metadata": {},
   "source": [
    "Create a series that maps the index of product titles to index of the matrix to make it easy for us to just feed in product titles and get the recommendation."
   ]
  },
  {
   "cell_type": "code",
   "execution_count": 23,
   "metadata": {},
   "outputs": [
    {
     "data": {
      "text/plain": [
       "title\n",
       "Adams Nylon Short            0\n",
       "Alessandra Pant              1\n",
       "Alessandra Pant - Short      2\n",
       "Aston Jacket                 3\n",
       "Aston Jacket Belt            4\n",
       "Banana Beanie                5\n",
       "Carson Bib Pant              6\n",
       "Carson Bib Pant - Short      7\n",
       "Douglas Nylon Windbreaker    8\n",
       "Emma Soft Shell Pant         9\n",
       "dtype: int64"
      ]
     },
     "execution_count": 23,
     "metadata": {},
     "output_type": "execute_result"
    }
   ],
   "source": [
    "# index mapping\n",
    "mapping = pd.Series(clean_df.index, index = clean_df['title'])\n",
    "mapping[:10]"
   ]
  },
  {
   "cell_type": "code",
   "execution_count": 24,
   "metadata": {},
   "outputs": [],
   "source": [
    "# write recommendation function \n",
    "def recommend_item_based_on_description(product_input):\n",
    "    item_idx = mapping[product_input]\n",
    "    \n",
    "    # get similarity values with other items \n",
    "    # similarity score is the list of index and similarity matrix\n",
    "    similarity_score = list(enumerate(similarity_matrix[item_idx]))\n",
    "    \n",
    "    # sort in descending order \n",
    "    similarity_score = sorted(similarity_score, key=lambda x: x[1], reverse=True)\n",
    "    \n",
    "    # get top five most similar, ignore the first\n",
    "    similarity_score = similarity_score[1:20]\n",
    "    \n",
    "    # return product names \n",
    "    item_indices = [i[0] for i in similarity_score]\n",
    "    \n",
    "    return (clean_df['title'].iloc[item_indices])    "
   ]
  },
  {
   "cell_type": "code",
   "execution_count": 25,
   "metadata": {},
   "outputs": [
    {
     "data": {
      "text/plain": [
       "3                      Aston Jacket\n",
       "21                      Johnson Top\n",
       "19         Hunter Merino Rib Beanie\n",
       "6                   Carson Bib Pant\n",
       "7           Carson Bib Pant - Short\n",
       "18           Hayes Knit Neck Warmer\n",
       "9              Emma Soft Shell Pant\n",
       "23    Nellie Packable Puffer Jacket\n",
       "20       Isabel Soft Shell Bib Pant\n",
       "5                     Banana Beanie\n",
       "28                      Tabei Parka\n",
       "27                   Sophia Legging\n",
       "1                   Alessandra Pant\n",
       "2           Alessandra Pant - Short\n",
       "0                 Adams Nylon Short\n",
       "4                 Aston Jacket Belt\n",
       "8         Douglas Nylon Windbreaker\n",
       "10                   Fay Merino Top\n",
       "11            Georgie Puffer Jacket\n",
       "Name: title, dtype: object"
      ]
     },
     "execution_count": 25,
     "metadata": {},
     "output_type": "execute_result"
    }
   ],
   "source": [
    "# recommend\n",
    "recommend_item_based_on_description('Pieper Fleece')"
   ]
  },
  {
   "cell_type": "code",
   "execution_count": 26,
   "metadata": {},
   "outputs": [
    {
     "data": {
      "text/html": [
       "<div>\n",
       "<style scoped>\n",
       "    .dataframe tbody tr th:only-of-type {\n",
       "        vertical-align: middle;\n",
       "    }\n",
       "\n",
       "    .dataframe tbody tr th {\n",
       "        vertical-align: top;\n",
       "    }\n",
       "\n",
       "    .dataframe thead th {\n",
       "        text-align: right;\n",
       "    }\n",
       "</style>\n",
       "<table border=\"1\" class=\"dataframe\">\n",
       "  <thead>\n",
       "    <tr style=\"text-align: right;\">\n",
       "      <th></th>\n",
       "      <th>id</th>\n",
       "      <th>title</th>\n",
       "      <th>body_html</th>\n",
       "      <th>vendor</th>\n",
       "      <th>product_type</th>\n",
       "      <th>status</th>\n",
       "      <th>tags</th>\n",
       "      <th>description</th>\n",
       "      <th>description_tokens</th>\n",
       "    </tr>\n",
       "  </thead>\n",
       "  <tbody>\n",
       "    <tr>\n",
       "      <th>21</th>\n",
       "      <td>5982175559839</td>\n",
       "      <td>Johnson Top</td>\n",
       "      <td>&lt;p&gt;A mock neck active layer designed to take y...</td>\n",
       "      <td>Halfdays</td>\n",
       "      <td>Shirts &amp; Tops</td>\n",
       "      <td>draft</td>\n",
       "      <td></td>\n",
       "      <td>a mock neck active layer designed to take you ...</td>\n",
       "      <td>[a, mock, neck, active, layer, designed, to, t...</td>\n",
       "    </tr>\n",
       "  </tbody>\n",
       "</table>\n",
       "</div>"
      ],
      "text/plain": [
       "               id        title  \\\n",
       "21  5982175559839  Johnson Top   \n",
       "\n",
       "                                            body_html    vendor  \\\n",
       "21  <p>A mock neck active layer designed to take y...  Halfdays   \n",
       "\n",
       "     product_type status tags  \\\n",
       "21  Shirts & Tops  draft        \n",
       "\n",
       "                                          description  \\\n",
       "21  a mock neck active layer designed to take you ...   \n",
       "\n",
       "                                   description_tokens  \n",
       "21  [a, mock, neck, active, layer, designed, to, t...  "
      ]
     },
     "execution_count": 26,
     "metadata": {},
     "output_type": "execute_result"
    }
   ],
   "source": [
    "clean_df.loc[clean_df['title'] == 'Johnson Top']"
   ]
  },
  {
   "cell_type": "markdown",
   "metadata": {},
   "source": [
    "# ----------------------------------"
   ]
  },
  {
   "cell_type": "markdown",
   "metadata": {},
   "source": [
    "# Ola Canvas"
   ]
  },
  {
   "cell_type": "markdown",
   "metadata": {},
   "source": [
    "## Load and Process Data"
   ]
  },
  {
   "cell_type": "code",
   "execution_count": 27,
   "metadata": {},
   "outputs": [],
   "source": [
    "# import data from csv \n",
    "df = pd.read_csv('/Users/akg/Documents/shopkit/clothing_recs/complete_product_lists/ola_canvas_products.csv')"
   ]
  },
  {
   "cell_type": "code",
   "execution_count": 28,
   "metadata": {},
   "outputs": [],
   "source": [
    "# filter relevant columns\n",
    "df = df[['id', 'title', 'body_html', 'vendor', 'product_type', 'handle', \n",
    "         'status', 'tags']]"
   ]
  },
  {
   "cell_type": "code",
   "execution_count": 29,
   "metadata": {},
   "outputs": [],
   "source": [
    "# further downselect features to use for initial recommendations \n",
    "clean_df = df.copy()\n",
    "clean_df = clean_df[['id', 'title', 'body_html', 'vendor', 'product_type',\n",
    "                     'status', 'tags']]"
   ]
  },
  {
   "cell_type": "code",
   "execution_count": 30,
   "metadata": {},
   "outputs": [],
   "source": [
    "# fill missing values with empty string\n",
    "clean_df = clean_df.fillna(value='')"
   ]
  },
  {
   "cell_type": "code",
   "execution_count": 31,
   "metadata": {},
   "outputs": [],
   "source": [
    "# Remove Draft Products\n",
    "# clean_df = clean_df.loc[clean_df['status'] != 'draft']"
   ]
  },
  {
   "cell_type": "code",
   "execution_count": 32,
   "metadata": {},
   "outputs": [
    {
     "data": {
      "text/plain": [
       "'<p><strong>Surf Hat\\xa0</strong></p>\\n<p>Made for the water. \\xa0Unstructured hat made from UV resistant quick dry nylon. \\xa0 Proprietary polywrap elastic and turnbuckle back closure. \\xa0The back closure on each hat we make is done by hand in our studio. \\xa0</p>\\n<p><span></span><strong>Product Details</strong></p>\\n<ul>\\n<li>Color: Black</li>\\n<li>Unstructured Cap</li>\\n<li>100% Nylon\\xa0</li>\\n<li>Quick Dry</li>\\n<li>Elastic ploy wrap back band</li>\\n<li>Signature OLA CANVAS closure</li>\\n</ul>\\n<span style=\"font-size: 1.4em;\">\\xa0</span><br>\\n<p><strong>Hat Sizing</strong><br></p>\\n<p data-mce-fragment=\"1\">SM: 6 3/4 - 7 1/4</p>\\n<p data-mce-fragment=\"1\">L/XL: 7 1/4 -7 3/4</p>\\n<blockquote>\\n<h5><span style=\"font-size: 1.4em;\" data-mce-style=\"font-size: 1.4em;\"></span></h5>\\n</blockquote>\\n<br>\\n<p>Designed in California by\\xa0OLA\\xa0CANVAS</p>'"
      ]
     },
     "execution_count": 32,
     "metadata": {},
     "output_type": "execute_result"
    }
   ],
   "source": [
    "clean_df.iloc[0]['body_html']"
   ]
  },
  {
   "cell_type": "code",
   "execution_count": 33,
   "metadata": {},
   "outputs": [],
   "source": [
    "# Extract paragraph from body_html as description \n",
    "clean_df['description'] = clean_df['body_html'].apply(lambda x: BeautifulSoup(x, 'html.parser').get_text() if BeautifulSoup(x, 'html.parser').get_text() else x)"
   ]
  },
  {
   "cell_type": "code",
   "execution_count": 34,
   "metadata": {},
   "outputs": [
    {
     "data": {
      "text/plain": [
       "'Surf Hat\\xa0\\nMade for the water. \\xa0Unstructured hat made from UV resistant quick dry nylon. \\xa0 Proprietary polywrap elastic and turnbuckle back closure. \\xa0The back closure on each hat we make is done by hand in our studio. \\xa0\\nProduct Details\\n\\nColor: Black\\nUnstructured Cap\\n100% Nylon\\xa0\\nQuick Dry\\nElastic ploy wrap back band\\nSignature OLA CANVAS closure\\n\\n\\xa0\\nHat Sizing\\nSM: 6 3/4 - 7 1/4\\nL/XL: 7 1/4 -7 3/4\\n\\n\\n\\n\\nDesigned in California by\\xa0OLA\\xa0CANVAS'"
      ]
     },
     "execution_count": 34,
     "metadata": {},
     "output_type": "execute_result"
    }
   ],
   "source": [
    "clean_df.iloc[0]['description']"
   ]
  },
  {
   "cell_type": "markdown",
   "metadata": {},
   "source": [
    "## Apply NLP to Descriptions"
   ]
  },
  {
   "cell_type": "code",
   "execution_count": 35,
   "metadata": {},
   "outputs": [],
   "source": [
    "# set up stopwords \n",
    "# stopwords_list = stopwords.words('english') + list(string.punctuation)\n",
    "stopwords_list = list(string.punctuation)\n",
    "\n",
    "# add p and /p to stopwords list \n",
    "stopwords_list += [\"\\xa0\", \"\\n\"]"
   ]
  },
  {
   "cell_type": "code",
   "execution_count": 36,
   "metadata": {},
   "outputs": [],
   "source": [
    "# process descriptions\n",
    "clean_df['description_tokens'] = clean_df.apply(lambda x: process_product_description(str(x.description), stopwords_list), axis=1)\n",
    "\n",
    "# replace description with processed, joined description\n",
    "clean_df['description'] = clean_df['description_tokens'].apply(lambda x: \" \".join(x))\n",
    "\n",
    "# reset index \n",
    "clean_df = clean_df.reset_index(drop=True)"
   ]
  },
  {
   "cell_type": "code",
   "execution_count": 37,
   "metadata": {},
   "outputs": [
    {
     "data": {
      "text/plain": [
       "(196, 567)"
      ]
     },
     "execution_count": 37,
     "metadata": {},
     "output_type": "execute_result"
    }
   ],
   "source": [
    "# construct tfidf matrix \n",
    "description_matrix = tfidf.fit_transform(clean_df['description'])\n",
    "\n",
    "# output shape \n",
    "description_matrix.shape"
   ]
  },
  {
   "cell_type": "code",
   "execution_count": 38,
   "metadata": {},
   "outputs": [
    {
     "data": {
      "text/plain": [
       "array([[1.        , 0.98368497, 0.07530808, ..., 0.10289489, 0.10529019,\n",
       "        0.12166241],\n",
       "       [0.98368497, 1.        , 0.06827899, ..., 0.10195145, 0.1043248 ,\n",
       "        0.1205469 ],\n",
       "       [0.07530808, 0.06827899, 1.        , ..., 0.05013   , 0.05129699,\n",
       "        0.09685194],\n",
       "       ...,\n",
       "       [0.10289489, 0.10195145, 0.05013   , ..., 1.        , 0.94411694,\n",
       "        0.03519429],\n",
       "       [0.10529019, 0.1043248 , 0.05129699, ..., 0.94411694, 1.        ,\n",
       "        0.03601359],\n",
       "       [0.12166241, 0.1205469 , 0.09685194, ..., 0.03519429, 0.03601359,\n",
       "        1.        ]])"
      ]
     },
     "execution_count": 38,
     "metadata": {},
     "output_type": "execute_result"
    }
   ],
   "source": [
    "# build similarity matrix \n",
    "similarity_matrix = linear_kernel(description_matrix, description_matrix)\n",
    "similarity_matrix"
   ]
  },
  {
   "cell_type": "code",
   "execution_count": 39,
   "metadata": {},
   "outputs": [
    {
     "data": {
      "text/plain": [
       "title\n",
       "\"O\"RIGINAL SURF HAT- Black              0\n",
       "\"O\"RIGINAL SURF HAT- Navy               1\n",
       "ALBUM x OLA CANVAS Boardshort- BLACK    2\n",
       "Anthem Tee - Black                      3\n",
       "Anthem Tee - Pale Pink                  4\n",
       "Anthem Tee - Signal Yellow              5\n",
       "Back Bay Tee - Bone                     6\n",
       "Back Bay Tee - Sulfur                   7\n",
       "Blackball Boardshort- Black             8\n",
       "Blackball Boardshort- Hazard Yellow     9\n",
       "dtype: int64"
      ]
     },
     "execution_count": 39,
     "metadata": {},
     "output_type": "execute_result"
    }
   ],
   "source": [
    "# index mapping\n",
    "mapping = pd.Series(clean_df.index, index = clean_df['title'])\n",
    "mapping[:10]"
   ]
  },
  {
   "cell_type": "code",
   "execution_count": 40,
   "metadata": {},
   "outputs": [
    {
     "data": {
      "text/html": [
       "<div>\n",
       "<style scoped>\n",
       "    .dataframe tbody tr th:only-of-type {\n",
       "        vertical-align: middle;\n",
       "    }\n",
       "\n",
       "    .dataframe tbody tr th {\n",
       "        vertical-align: top;\n",
       "    }\n",
       "\n",
       "    .dataframe thead th {\n",
       "        text-align: right;\n",
       "    }\n",
       "</style>\n",
       "<table border=\"1\" class=\"dataframe\">\n",
       "  <thead>\n",
       "    <tr style=\"text-align: right;\">\n",
       "      <th></th>\n",
       "      <th>id</th>\n",
       "      <th>title</th>\n",
       "      <th>body_html</th>\n",
       "      <th>vendor</th>\n",
       "      <th>product_type</th>\n",
       "      <th>status</th>\n",
       "      <th>tags</th>\n",
       "      <th>description</th>\n",
       "      <th>description_tokens</th>\n",
       "    </tr>\n",
       "  </thead>\n",
       "  <tbody>\n",
       "    <tr>\n",
       "      <th>162</th>\n",
       "      <td>6662860505264</td>\n",
       "      <td>SOUVENIR SHORT - LEGION GREEN</td>\n",
       "      <td>&lt;p&gt;Called the souvenir short as throwback to m...</td>\n",
       "      <td>OLA Canvas</td>\n",
       "      <td></td>\n",
       "      <td>active</td>\n",
       "      <td></td>\n",
       "      <td>called the souvenir short a throwback to milit...</td>\n",
       "      <td>[called, the, souvenir, short, a, throwback, t...</td>\n",
       "    </tr>\n",
       "    <tr>\n",
       "      <th>163</th>\n",
       "      <td>6985682944176</td>\n",
       "      <td>SOUVENIR SHORT - MARINE BLUE</td>\n",
       "      <td>&lt;p&gt;Called the souvenir short as throwback to m...</td>\n",
       "      <td>OLA Canvas</td>\n",
       "      <td></td>\n",
       "      <td>active</td>\n",
       "      <td></td>\n",
       "      <td>called the souvenir short a throwback to milit...</td>\n",
       "      <td>[called, the, souvenir, short, a, throwback, t...</td>\n",
       "    </tr>\n",
       "    <tr>\n",
       "      <th>164</th>\n",
       "      <td>6743654498480</td>\n",
       "      <td>SOUVENIR SHORT - OBSIDIAN BLUE</td>\n",
       "      <td>&lt;p&gt;Called the souvenir short as throwback to m...</td>\n",
       "      <td>OLA Canvas</td>\n",
       "      <td></td>\n",
       "      <td>active</td>\n",
       "      <td></td>\n",
       "      <td>called the souvenir short a throwback to milit...</td>\n",
       "      <td>[called, the, souvenir, short, a, throwback, t...</td>\n",
       "    </tr>\n",
       "    <tr>\n",
       "      <th>165</th>\n",
       "      <td>7097190645936</td>\n",
       "      <td>SOUVENIR SHORT PALM EMB - MARINE BLUE</td>\n",
       "      <td>&lt;p&gt;Called the souvenir short as throwback to m...</td>\n",
       "      <td>OLA Canvas</td>\n",
       "      <td></td>\n",
       "      <td>active</td>\n",
       "      <td></td>\n",
       "      <td>called the souvenir short a throwback to milit...</td>\n",
       "      <td>[called, the, souvenir, short, a, throwback, t...</td>\n",
       "    </tr>\n",
       "    <tr>\n",
       "      <th>166</th>\n",
       "      <td>7097190318256</td>\n",
       "      <td>SOUVENIR SHORT TIGER EMB - MARINE BLUE</td>\n",
       "      <td>&lt;p&gt;Limited Edition Embroidered Souvenir Shorts...</td>\n",
       "      <td>OLA Canvas</td>\n",
       "      <td></td>\n",
       "      <td>active</td>\n",
       "      <td></td>\n",
       "      <td>limited edition embroidered souvenir shorts pr...</td>\n",
       "      <td>[limited, edition, embroidered, souvenir, shor...</td>\n",
       "    </tr>\n",
       "  </tbody>\n",
       "</table>\n",
       "</div>"
      ],
      "text/plain": [
       "                id                                   title  \\\n",
       "162  6662860505264           SOUVENIR SHORT - LEGION GREEN   \n",
       "163  6985682944176            SOUVENIR SHORT - MARINE BLUE   \n",
       "164  6743654498480          SOUVENIR SHORT - OBSIDIAN BLUE   \n",
       "165  7097190645936   SOUVENIR SHORT PALM EMB - MARINE BLUE   \n",
       "166  7097190318256  SOUVENIR SHORT TIGER EMB - MARINE BLUE   \n",
       "\n",
       "                                             body_html      vendor  \\\n",
       "162  <p>Called the souvenir short as throwback to m...  OLA Canvas   \n",
       "163  <p>Called the souvenir short as throwback to m...  OLA Canvas   \n",
       "164  <p>Called the souvenir short as throwback to m...  OLA Canvas   \n",
       "165  <p>Called the souvenir short as throwback to m...  OLA Canvas   \n",
       "166  <p>Limited Edition Embroidered Souvenir Shorts...  OLA Canvas   \n",
       "\n",
       "    product_type  status tags  \\\n",
       "162               active        \n",
       "163               active        \n",
       "164               active        \n",
       "165               active        \n",
       "166               active        \n",
       "\n",
       "                                           description  \\\n",
       "162  called the souvenir short a throwback to milit...   \n",
       "163  called the souvenir short a throwback to milit...   \n",
       "164  called the souvenir short a throwback to milit...   \n",
       "165  called the souvenir short a throwback to milit...   \n",
       "166  limited edition embroidered souvenir shorts pr...   \n",
       "\n",
       "                                    description_tokens  \n",
       "162  [called, the, souvenir, short, a, throwback, t...  \n",
       "163  [called, the, souvenir, short, a, throwback, t...  \n",
       "164  [called, the, souvenir, short, a, throwback, t...  \n",
       "165  [called, the, souvenir, short, a, throwback, t...  \n",
       "166  [limited, edition, embroidered, souvenir, shor...  "
      ]
     },
     "execution_count": 40,
     "metadata": {},
     "output_type": "execute_result"
    }
   ],
   "source": [
    "clean_df.loc[clean_df['title'].str.contains('SOUVENIR')]"
   ]
  },
  {
   "cell_type": "code",
   "execution_count": 41,
   "metadata": {},
   "outputs": [
    {
     "data": {
      "text/plain": [
       "165     SOUVENIR SHORT PALM EMB - MARINE BLUE\n",
       "164            SOUVENIR SHORT - OBSIDIAN BLUE\n",
       "162             SOUVENIR SHORT - LEGION GREEN\n",
       "187                    UTILITY SHORT 01- SAIL\n",
       "186             UTILITY SHORT 01- CARGO KHAKI\n",
       "185                          UTILITY SHORT 01\n",
       "166    SOUVENIR SHORT TIGER EMB - MARINE BLUE\n",
       "60                       OG Boardshort- Black\n",
       "119               Sample OG Boardshort- Black\n",
       "61                       OG Boardshort- Olive\n",
       "46                Dockside Chino-Desert Khaki\n",
       "45                       Dockside Chino-Birch\n",
       "182                            UTILITY PANT01\n",
       "8                 Blackball Boardshort- Black\n",
       "184                      UTILITY PANT01- SAIL\n",
       "183               UTILITY PANT01- CARGO KHAKI\n",
       "9         Blackball Boardshort- Hazard Yellow\n",
       "2        ALBUM x OLA CANVAS Boardshort- BLACK\n",
       "83        OLA CANVAS LEVI PKT TEE - Off White\n",
       "Name: title, dtype: object"
      ]
     },
     "execution_count": 41,
     "metadata": {},
     "output_type": "execute_result"
    }
   ],
   "source": [
    "# generate recommendations\n",
    "recommend_item_based_on_description('SOUVENIR SHORT - MARINE BLUE')"
   ]
  },
  {
   "cell_type": "code",
   "execution_count": null,
   "metadata": {},
   "outputs": [],
   "source": []
  }
 ],
 "metadata": {
  "kernelspec": {
   "display_name": "Python 3.10.6 ('shopkit')",
   "language": "python",
   "name": "python3"
  },
  "language_info": {
   "codemirror_mode": {
    "name": "ipython",
    "version": 3
   },
   "file_extension": ".py",
   "mimetype": "text/x-python",
   "name": "python",
   "nbconvert_exporter": "python",
   "pygments_lexer": "ipython3",
   "version": "3.10.6"
  },
  "orig_nbformat": 4,
  "vscode": {
   "interpreter": {
    "hash": "4120e976485212a92d6d1d1bd331380ab02af8603dd76ea416a4c729ad28f811"
   }
  }
 },
 "nbformat": 4,
 "nbformat_minor": 2
}
