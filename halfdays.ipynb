{
 "cells": [
  {
   "cell_type": "markdown",
   "metadata": {},
   "source": [
    "# Shopkit"
   ]
  },
  {
   "cell_type": "markdown",
   "metadata": {},
   "source": [
    "### Import Libraries"
   ]
  },
  {
   "cell_type": "code",
   "execution_count": 54,
   "metadata": {},
   "outputs": [],
   "source": [
    "# import libraries \n",
    "import pandas as pd\n",
    "import numpy as np\n",
    "import requests\n",
    "import json\n",
    "import matplotlib.pyplot as plt\n",
    "import seaborn as sns"
   ]
  },
  {
   "cell_type": "markdown",
   "metadata": {},
   "source": [
    "### Load Auth Tokens"
   ]
  },
  {
   "cell_type": "code",
   "execution_count": 42,
   "metadata": {},
   "outputs": [],
   "source": [
    "# define function for getting auth tokens\n",
    "def get_keys(path):\n",
    "    with open(path) as f:\n",
    "        return json.load(f)"
   ]
  },
  {
   "cell_type": "code",
   "execution_count": 43,
   "metadata": {},
   "outputs": [],
   "source": [
    "# load auth token\n",
    "auth_path = '/Users/akg/.secret/shopkit/api_keys.json'\n",
    "auth_key = get_keys(auth_path)['auth-token']"
   ]
  },
  {
   "cell_type": "markdown",
   "metadata": {},
   "source": [
    "### Define Endpoint"
   ]
  },
  {
   "cell_type": "code",
   "execution_count": 44,
   "metadata": {},
   "outputs": [],
   "source": [
    "# define endpoint\n",
    "endpoint_url = 'https://shopkit-caa72.uc.r.appspot.com/api/store/products/'\n",
    "\n",
    "# define headers\n",
    "headers = {\n",
    "    \"accept\": \"application/json\",\n",
    "    \"Authorization\": f\"Token {auth_key}\"\n",
    "}"
   ]
  },
  {
   "cell_type": "code",
   "execution_count": 45,
   "metadata": {},
   "outputs": [],
   "source": [
    "# brand-specific slugs\n",
    "# halfdays\n",
    "halfdays = 'halfdays.myshopify.com'"
   ]
  },
  {
   "cell_type": "code",
   "execution_count": 46,
   "metadata": {},
   "outputs": [],
   "source": [
    "# create brand-specific endpoint \n",
    "halfday_endpoint = endpoint_url + halfdays"
   ]
  },
  {
   "cell_type": "markdown",
   "metadata": {},
   "source": [
    "### Request Endpoint"
   ]
  },
  {
   "cell_type": "code",
   "execution_count": 47,
   "metadata": {},
   "outputs": [],
   "source": [
    "# request endpoint\n",
    "json_data = requests.get(url=halfday_endpoint, headers=headers).json()"
   ]
  },
  {
   "cell_type": "markdown",
   "metadata": {},
   "source": [
    "### Examine Data"
   ]
  },
  {
   "cell_type": "code",
   "execution_count": 48,
   "metadata": {},
   "outputs": [
    {
     "data": {
      "text/plain": [
       "dict_keys(['id', 'title', 'body_html', 'vendor', 'product_type', 'created_at', 'handle', 'updated_at', 'published_at', 'template_suffix', 'status', 'published_scope', 'tags', 'admin_graphql_api_id', 'variants', 'options', 'images', 'image'])"
      ]
     },
     "execution_count": 48,
     "metadata": {},
     "output_type": "execute_result"
    }
   ],
   "source": [
    "# preview data \n",
    "json_data['46 products'][0].keys()"
   ]
  },
  {
   "cell_type": "code",
   "execution_count": 49,
   "metadata": {},
   "outputs": [],
   "source": [
    "# save data as dataframe \n",
    "halfdays_df = pd.json_normalize(json_data['46 products'])"
   ]
  },
  {
   "cell_type": "code",
   "execution_count": 50,
   "metadata": {},
   "outputs": [
    {
     "data": {
      "text/plain": [
       "Index(['id', 'title', 'body_html', 'vendor', 'product_type', 'created_at',\n",
       "       'handle', 'updated_at', 'published_at', 'template_suffix', 'status',\n",
       "       'published_scope', 'tags', 'admin_graphql_api_id', 'variants',\n",
       "       'options', 'images', 'image.id', 'image.position', 'image.created_at',\n",
       "       'image.updated_at', 'image.alt', 'image.width', 'image.height',\n",
       "       'image.src', 'image.variant_ids', 'image.admin_graphql_api_id',\n",
       "       'image'],\n",
       "      dtype='object')"
      ]
     },
     "execution_count": 50,
     "metadata": {},
     "output_type": "execute_result"
    }
   ],
   "source": [
    "halfdays_df.columns"
   ]
  },
  {
   "cell_type": "code",
   "execution_count": 51,
   "metadata": {},
   "outputs": [],
   "source": [
    "# export to csv\n",
    "halfdays_df.to_csv('/Users/akg/Documents/shopkit/clothing_recs/complete_product_lists/halfdays_unexploded.csv', index=False)"
   ]
  },
  {
   "cell_type": "code",
   "execution_count": 52,
   "metadata": {},
   "outputs": [
    {
     "data": {
      "text/plain": [
       "46"
      ]
     },
     "execution_count": 52,
     "metadata": {},
     "output_type": "execute_result"
    }
   ],
   "source": [
    "len(halfdays_df)"
   ]
  },
  {
   "cell_type": "markdown",
   "metadata": {},
   "source": [
    "### Explode Options & Variants"
   ]
  },
  {
   "cell_type": "code",
   "execution_count": 30,
   "metadata": {},
   "outputs": [],
   "source": [
    "# explode by options and variants\n",
    "options_df = halfdays_df.explode('options')\n",
    "variants_df = halfdays_df.explode('variants')"
   ]
  },
  {
   "cell_type": "code",
   "execution_count": 31,
   "metadata": {},
   "outputs": [],
   "source": [
    "# pull data from variants\n",
    "variants_df['variant_id'] = variants_df['variants'].apply(lambda x: x['id'])\n",
    "variants_df['variant_title'] = variants_df['variants'].apply(lambda x: x['title'])\n",
    "variants_df['price'] = variants_df['variants'].apply(lambda x: x['price'])\n",
    "variants_df['sku'] = variants_df['variants'].apply(lambda x: x['sku'])\n",
    "variants_df['position'] = variants_df['variants'].apply(lambda x: x['position'])\n",
    "variants_df['inv_policy'] = variants_df['variants'].apply(lambda x: x['inventory_policy'])\n",
    "variants_df['compare_at_price'] = variants_df['variants'].apply(lambda x: x['compare_at_price'])\n",
    "variants_df['fulfillment_service'] = variants_df['variants'].apply(lambda x: x['fulfillment_service'])\n",
    "variants_df['inv_management'] = variants_df['variants'].apply(lambda x: x['inventory_management'])\n",
    "variants_df['option_1'] = variants_df['variants'].apply(lambda x: x['option1'])\n",
    "variants_df['option_2'] = variants_df['variants'].apply(lambda x: x['option2'])\n",
    "variants_df['option_3'] = variants_df['variants'].apply(lambda x: x['option3'])\n",
    "variants_df['taxable'] = variants_df['variants'].apply(lambda x: x['taxable'])\n",
    "variants_df['barcode'] = variants_df['variants'].apply(lambda x: x['barcode'])\n",
    "variants_df['grams'] = variants_df['variants'].apply(lambda x: x['grams'])\n",
    "variants_df['weight'] = variants_df['variants'].apply(lambda x: x['weight'])\n",
    "variants_df['weight_unit'] = variants_df['variants'].apply(lambda x: x['weight_unit'])\n",
    "variants_df['inventory_item_id'] = variants_df['variants'].apply(lambda x: x['inventory_item_id'])\n",
    "variants_df['inventory_quantity'] = variants_df['variants'].apply(lambda x: x['inventory_quantity'])\n",
    "variants_df['old_inventory_quantity'] = variants_df['variants'].apply(lambda x: x['old_inventory_quantity'])\n",
    "variants_df['requires_shipping'] = variants_df['variants'].apply(lambda x: x['requires_shipping'])"
   ]
  },
  {
   "cell_type": "code",
   "execution_count": null,
   "metadata": {},
   "outputs": [],
   "source": []
  },
  {
   "cell_type": "code",
   "execution_count": null,
   "metadata": {},
   "outputs": [],
   "source": []
  },
  {
   "cell_type": "code",
   "execution_count": null,
   "metadata": {},
   "outputs": [],
   "source": []
  },
  {
   "cell_type": "code",
   "execution_count": 32,
   "metadata": {},
   "outputs": [],
   "source": [
    "# explode variants\n",
    "halfdays_df = halfdays_df.explode('variants')"
   ]
  },
  {
   "cell_type": "code",
   "execution_count": 33,
   "metadata": {},
   "outputs": [
    {
     "data": {
      "text/html": [
       "<div>\n",
       "<style scoped>\n",
       "    .dataframe tbody tr th:only-of-type {\n",
       "        vertical-align: middle;\n",
       "    }\n",
       "\n",
       "    .dataframe tbody tr th {\n",
       "        vertical-align: top;\n",
       "    }\n",
       "\n",
       "    .dataframe thead th {\n",
       "        text-align: right;\n",
       "    }\n",
       "</style>\n",
       "<table border=\"1\" class=\"dataframe\">\n",
       "  <thead>\n",
       "    <tr style=\"text-align: right;\">\n",
       "      <th></th>\n",
       "      <th>id</th>\n",
       "      <th>title</th>\n",
       "      <th>body_html</th>\n",
       "      <th>vendor</th>\n",
       "      <th>product_type</th>\n",
       "      <th>created_at</th>\n",
       "      <th>handle</th>\n",
       "      <th>updated_at</th>\n",
       "      <th>published_at</th>\n",
       "      <th>template_suffix</th>\n",
       "      <th>...</th>\n",
       "      <th>image.position</th>\n",
       "      <th>image.created_at</th>\n",
       "      <th>image.updated_at</th>\n",
       "      <th>image.alt</th>\n",
       "      <th>image.width</th>\n",
       "      <th>image.height</th>\n",
       "      <th>image.src</th>\n",
       "      <th>image.variant_ids</th>\n",
       "      <th>image.admin_graphql_api_id</th>\n",
       "      <th>image</th>\n",
       "    </tr>\n",
       "  </thead>\n",
       "  <tbody>\n",
       "    <tr>\n",
       "      <th>0</th>\n",
       "      <td>6044920250527</td>\n",
       "      <td>100% Mineral Sunscreen Stick</td>\n",
       "      <td>SKU 3133</td>\n",
       "      <td>Halfdays</td>\n",
       "      <td></td>\n",
       "      <td>2020-12-31T11:21:43-07:00</td>\n",
       "      <td>100-mineral-sunscreen-stick</td>\n",
       "      <td>2022-10-25T11:57:47-06:00</td>\n",
       "      <td>None</td>\n",
       "      <td></td>\n",
       "      <td>...</td>\n",
       "      <td>1.0</td>\n",
       "      <td>2020-12-31T11:21:46-07:00</td>\n",
       "      <td>2020-12-31T11:21:46-07:00</td>\n",
       "      <td>None</td>\n",
       "      <td>660.0</td>\n",
       "      <td>834.0</td>\n",
       "      <td>https://cdn.shopify.com/s/files/1/0427/2413/09...</td>\n",
       "      <td>[]</td>\n",
       "      <td>gid://shopify/ProductImage/21032395178143</td>\n",
       "      <td>NaN</td>\n",
       "    </tr>\n",
       "    <tr>\n",
       "      <th>1</th>\n",
       "      <td>7847011975393</td>\n",
       "      <td>A Test Product</td>\n",
       "      <td></td>\n",
       "      <td>Halfdays</td>\n",
       "      <td></td>\n",
       "      <td>2022-09-23T01:52:16-06:00</td>\n",
       "      <td>test-product</td>\n",
       "      <td>2022-10-25T11:57:48-06:00</td>\n",
       "      <td>None</td>\n",
       "      <td></td>\n",
       "      <td>...</td>\n",
       "      <td>1.0</td>\n",
       "      <td>2022-09-23T01:52:19-06:00</td>\n",
       "      <td>2022-10-06T02:05:06-06:00</td>\n",
       "      <td>Black</td>\n",
       "      <td>1806.0</td>\n",
       "      <td>2691.0</td>\n",
       "      <td>https://cdn.shopify.com/s/files/1/0427/2413/09...</td>\n",
       "      <td>[43336439300321, 43336439365857, 4333643943139...</td>\n",
       "      <td>gid://shopify/ProductImage/38334953488609</td>\n",
       "      <td>NaN</td>\n",
       "    </tr>\n",
       "    <tr>\n",
       "      <th>1</th>\n",
       "      <td>7847011975393</td>\n",
       "      <td>A Test Product</td>\n",
       "      <td></td>\n",
       "      <td>Halfdays</td>\n",
       "      <td></td>\n",
       "      <td>2022-09-23T01:52:16-06:00</td>\n",
       "      <td>test-product</td>\n",
       "      <td>2022-10-25T11:57:48-06:00</td>\n",
       "      <td>None</td>\n",
       "      <td></td>\n",
       "      <td>...</td>\n",
       "      <td>1.0</td>\n",
       "      <td>2022-09-23T01:52:19-06:00</td>\n",
       "      <td>2022-10-06T02:05:06-06:00</td>\n",
       "      <td>Black</td>\n",
       "      <td>1806.0</td>\n",
       "      <td>2691.0</td>\n",
       "      <td>https://cdn.shopify.com/s/files/1/0427/2413/09...</td>\n",
       "      <td>[43336439300321, 43336439365857, 4333643943139...</td>\n",
       "      <td>gid://shopify/ProductImage/38334953488609</td>\n",
       "      <td>NaN</td>\n",
       "    </tr>\n",
       "    <tr>\n",
       "      <th>1</th>\n",
       "      <td>7847011975393</td>\n",
       "      <td>A Test Product</td>\n",
       "      <td></td>\n",
       "      <td>Halfdays</td>\n",
       "      <td></td>\n",
       "      <td>2022-09-23T01:52:16-06:00</td>\n",
       "      <td>test-product</td>\n",
       "      <td>2022-10-25T11:57:48-06:00</td>\n",
       "      <td>None</td>\n",
       "      <td></td>\n",
       "      <td>...</td>\n",
       "      <td>1.0</td>\n",
       "      <td>2022-09-23T01:52:19-06:00</td>\n",
       "      <td>2022-10-06T02:05:06-06:00</td>\n",
       "      <td>Black</td>\n",
       "      <td>1806.0</td>\n",
       "      <td>2691.0</td>\n",
       "      <td>https://cdn.shopify.com/s/files/1/0427/2413/09...</td>\n",
       "      <td>[43336439300321, 43336439365857, 4333643943139...</td>\n",
       "      <td>gid://shopify/ProductImage/38334953488609</td>\n",
       "      <td>NaN</td>\n",
       "    </tr>\n",
       "    <tr>\n",
       "      <th>1</th>\n",
       "      <td>7847011975393</td>\n",
       "      <td>A Test Product</td>\n",
       "      <td></td>\n",
       "      <td>Halfdays</td>\n",
       "      <td></td>\n",
       "      <td>2022-09-23T01:52:16-06:00</td>\n",
       "      <td>test-product</td>\n",
       "      <td>2022-10-25T11:57:48-06:00</td>\n",
       "      <td>None</td>\n",
       "      <td></td>\n",
       "      <td>...</td>\n",
       "      <td>1.0</td>\n",
       "      <td>2022-09-23T01:52:19-06:00</td>\n",
       "      <td>2022-10-06T02:05:06-06:00</td>\n",
       "      <td>Black</td>\n",
       "      <td>1806.0</td>\n",
       "      <td>2691.0</td>\n",
       "      <td>https://cdn.shopify.com/s/files/1/0427/2413/09...</td>\n",
       "      <td>[43336439300321, 43336439365857, 4333643943139...</td>\n",
       "      <td>gid://shopify/ProductImage/38334953488609</td>\n",
       "      <td>NaN</td>\n",
       "    </tr>\n",
       "  </tbody>\n",
       "</table>\n",
       "<p>5 rows × 28 columns</p>\n",
       "</div>"
      ],
      "text/plain": [
       "              id                         title body_html    vendor  \\\n",
       "0  6044920250527  100% Mineral Sunscreen Stick  SKU 3133  Halfdays   \n",
       "1  7847011975393                A Test Product            Halfdays   \n",
       "1  7847011975393                A Test Product            Halfdays   \n",
       "1  7847011975393                A Test Product            Halfdays   \n",
       "1  7847011975393                A Test Product            Halfdays   \n",
       "\n",
       "  product_type                 created_at                       handle  \\\n",
       "0               2020-12-31T11:21:43-07:00  100-mineral-sunscreen-stick   \n",
       "1               2022-09-23T01:52:16-06:00                 test-product   \n",
       "1               2022-09-23T01:52:16-06:00                 test-product   \n",
       "1               2022-09-23T01:52:16-06:00                 test-product   \n",
       "1               2022-09-23T01:52:16-06:00                 test-product   \n",
       "\n",
       "                  updated_at published_at template_suffix  ... image.position  \\\n",
       "0  2022-10-25T11:57:47-06:00         None                  ...            1.0   \n",
       "1  2022-10-25T11:57:48-06:00         None                  ...            1.0   \n",
       "1  2022-10-25T11:57:48-06:00         None                  ...            1.0   \n",
       "1  2022-10-25T11:57:48-06:00         None                  ...            1.0   \n",
       "1  2022-10-25T11:57:48-06:00         None                  ...            1.0   \n",
       "\n",
       "            image.created_at           image.updated_at image.alt image.width  \\\n",
       "0  2020-12-31T11:21:46-07:00  2020-12-31T11:21:46-07:00      None       660.0   \n",
       "1  2022-09-23T01:52:19-06:00  2022-10-06T02:05:06-06:00     Black      1806.0   \n",
       "1  2022-09-23T01:52:19-06:00  2022-10-06T02:05:06-06:00     Black      1806.0   \n",
       "1  2022-09-23T01:52:19-06:00  2022-10-06T02:05:06-06:00     Black      1806.0   \n",
       "1  2022-09-23T01:52:19-06:00  2022-10-06T02:05:06-06:00     Black      1806.0   \n",
       "\n",
       "  image.height                                          image.src  \\\n",
       "0        834.0  https://cdn.shopify.com/s/files/1/0427/2413/09...   \n",
       "1       2691.0  https://cdn.shopify.com/s/files/1/0427/2413/09...   \n",
       "1       2691.0  https://cdn.shopify.com/s/files/1/0427/2413/09...   \n",
       "1       2691.0  https://cdn.shopify.com/s/files/1/0427/2413/09...   \n",
       "1       2691.0  https://cdn.shopify.com/s/files/1/0427/2413/09...   \n",
       "\n",
       "                                   image.variant_ids  \\\n",
       "0                                                 []   \n",
       "1  [43336439300321, 43336439365857, 4333643943139...   \n",
       "1  [43336439300321, 43336439365857, 4333643943139...   \n",
       "1  [43336439300321, 43336439365857, 4333643943139...   \n",
       "1  [43336439300321, 43336439365857, 4333643943139...   \n",
       "\n",
       "                  image.admin_graphql_api_id image  \n",
       "0  gid://shopify/ProductImage/21032395178143   NaN  \n",
       "1  gid://shopify/ProductImage/38334953488609   NaN  \n",
       "1  gid://shopify/ProductImage/38334953488609   NaN  \n",
       "1  gid://shopify/ProductImage/38334953488609   NaN  \n",
       "1  gid://shopify/ProductImage/38334953488609   NaN  \n",
       "\n",
       "[5 rows x 28 columns]"
      ]
     },
     "execution_count": 33,
     "metadata": {},
     "output_type": "execute_result"
    }
   ],
   "source": [
    "halfdays_df.head()"
   ]
  },
  {
   "cell_type": "code",
   "execution_count": 34,
   "metadata": {},
   "outputs": [
    {
     "data": {
      "text/plain": [
       "dict_keys(['id', 'title', 'price', 'sku', 'position', 'inventory_policy', 'compare_at_price', 'fulfillment_service', 'inventory_management', 'option1', 'option2', 'option3', 'created_at', 'updated_at', 'taxable', 'barcode', 'grams', 'image_id', 'weight', 'weight_unit', 'inventory_item_id', 'inventory_quantity', 'old_inventory_quantity', 'requires_shipping', 'admin_graphql_api_id'])"
      ]
     },
     "execution_count": 34,
     "metadata": {},
     "output_type": "execute_result"
    }
   ],
   "source": [
    "halfdays_df.iloc[0]['variants'].keys()"
   ]
  },
  {
   "cell_type": "code",
   "execution_count": 35,
   "metadata": {},
   "outputs": [
    {
     "data": {
      "text/plain": [
       "'Black'"
      ]
     },
     "execution_count": 35,
     "metadata": {},
     "output_type": "execute_result"
    }
   ],
   "source": [
    "halfdays_df.iloc[4]['variants']['option1']"
   ]
  },
  {
   "cell_type": "code",
   "execution_count": 36,
   "metadata": {},
   "outputs": [
    {
     "data": {
      "text/plain": [
       "'M'"
      ]
     },
     "execution_count": 36,
     "metadata": {},
     "output_type": "execute_result"
    }
   ],
   "source": [
    "halfdays_df.iloc[4]['variants']['option2']"
   ]
  },
  {
   "cell_type": "code",
   "execution_count": 37,
   "metadata": {},
   "outputs": [
    {
     "data": {
      "text/plain": [
       "'Short'"
      ]
     },
     "execution_count": 37,
     "metadata": {},
     "output_type": "execute_result"
    }
   ],
   "source": [
    "halfdays_df.iloc[4]['variants']['option3']"
   ]
  },
  {
   "cell_type": "code",
   "execution_count": 38,
   "metadata": {},
   "outputs": [],
   "source": [
    "# pull out data from variants\n",
    "halfdays_df['variant_id'] = halfdays_df['variants'].apply(lambda x: x['id'])\n",
    "halfdays_df['variant_title'] = halfdays_df['variants'].apply(lambda x: x['title'])\n",
    "halfdays_df['price'] = halfdays_df['variants'].apply(lambda x: x['price'])\n",
    "halfdays_df['sku'] = halfdays_df['variants'].apply(lambda x: x['sku'])\n",
    "halfdays_df['position'] = halfdays_df['variants'].apply(lambda x: x['position'])\n",
    "halfdays_df['inv_policy'] = halfdays_df['variants'].apply(lambda x: x['inventory_policy'])\n",
    "halfdays_df['compare_at_price'] = halfdays_df['variants'].apply(lambda x: x['compare_at_price'])\n",
    "halfdays_df['fulfillment_service'] = halfdays_df['variants'].apply(lambda x: x['fulfillment_service'])\n",
    "halfdays_df['inv_management'] = halfdays_df['variants'].apply(lambda x: x['inventory_management'])\n",
    "halfdays_df['option_1'] = halfdays_df['variants'].apply(lambda x: x['option1'])\n",
    "halfdays_df['option_2'] = halfdays_df['variants'].apply(lambda x: x['option2'])\n",
    "halfdays_df['option_3'] = halfdays_df['variants'].apply(lambda x: x['option3'])\n",
    "halfdays_df['taxable'] = halfdays_df['variants'].apply(lambda x: x['taxable'])\n",
    "halfdays_df['barcode'] = halfdays_df['variants'].apply(lambda x: x['barcode'])\n",
    "halfdays_df['grams'] = halfdays_df['variants'].apply(lambda x: x['grams'])\n",
    "halfdays_df['weight'] = halfdays_df['variants'].apply(lambda x: x['weight'])\n",
    "halfdays_df['weight_unit'] = halfdays_df['variants'].apply(lambda x: x['weight_unit'])\n",
    "halfdays_df['inventory_item_id'] = halfdays_df['variants'].apply(lambda x: x['inventory_item_id'])\n",
    "halfdays_df['inventory_quantity'] = halfdays_df['variants'].apply(lambda x: x['inventory_quantity'])\n",
    "halfdays_df['old_inventory_quantity'] = halfdays_df['variants'].apply(lambda x: x['old_inventory_quantity'])\n",
    "halfdays_df['requires_shipping'] = halfdays_df['variants'].apply(lambda x: x['requires_shipping'])"
   ]
  },
  {
   "cell_type": "markdown",
   "metadata": {},
   "source": [
    "## Save Dataframe as a CSV"
   ]
  },
  {
   "cell_type": "code",
   "execution_count": 40,
   "metadata": {},
   "outputs": [],
   "source": [
    "# output to csv\n",
    "halfdays_df.to_csv('complete_product_lists/halfdays_products.csv', index=False)"
   ]
  }
 ],
 "metadata": {
  "kernelspec": {
   "display_name": "Python 3 (ipykernel)",
   "language": "python",
   "name": "python3"
  },
  "language_info": {
   "codemirror_mode": {
    "name": "ipython",
    "version": 3
   },
   "file_extension": ".py",
   "mimetype": "text/x-python",
   "name": "python",
   "nbconvert_exporter": "python",
   "pygments_lexer": "ipython3",
   "version": "3.10.6"
  },
  "vscode": {
   "interpreter": {
    "hash": "4120e976485212a92d6d1d1bd331380ab02af8603dd76ea416a4c729ad28f811"
   }
  }
 },
 "nbformat": 4,
 "nbformat_minor": 2
}
