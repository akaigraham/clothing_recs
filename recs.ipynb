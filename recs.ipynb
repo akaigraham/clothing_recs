{
 "cells": [
  {
   "cell_type": "markdown",
   "metadata": {
    "collapsed": true,
    "pycharm": {
     "name": "#%% md\n"
    }
   },
   "source": [
    "# Clothing Recommendation"
   ]
  },
  {
   "cell_type": "code",
   "execution_count": 1,
   "metadata": {
    "pycharm": {
     "name": "#%%\n"
    }
   },
   "outputs": [],
   "source": [
    "# import necessary dependencies\n",
    "import re\n",
    "import numpy as np\n",
    "import pandas as pd\n",
    "import requests\n",
    "from bs4 import BeautifulSoup\n",
    "import time\n",
    "import json"
   ]
  },
  {
   "cell_type": "code",
   "execution_count": 2,
   "metadata": {
    "pycharm": {
     "name": "#%%\n"
    }
   },
   "outputs": [],
   "source": [
    "# url setup\n",
    "marine_layer_url = 'https://marinelayer.com/products.json'\n",
    "allbirds_url = 'https://www.allbirds.com/products.json'"
   ]
  },
  {
   "cell_type": "code",
   "execution_count": 3,
   "metadata": {
    "pycharm": {
     "name": "#%%\n"
    }
   },
   "outputs": [],
   "source": [
    "marine_layer = requests.get(marine_layer_url).json()\n",
    "allbirds = requests.get(allbirds_url).json()"
   ]
  },
  {
   "cell_type": "code",
   "execution_count": 14,
   "metadata": {
    "pycharm": {
     "name": "#%%\n"
    }
   },
   "outputs": [
    {
     "name": "stdout",
     "output_type": "stream",
     "text": [
      "<class 'pandas.core.frame.DataFrame'>\n",
      "RangeIndex: 30 entries, 0 to 29\n",
      "Data columns (total 13 columns):\n",
      " #   Column        Non-Null Count  Dtype \n",
      "---  ------        --------------  ----- \n",
      " 0   id            30 non-null     int64 \n",
      " 1   title         30 non-null     object\n",
      " 2   handle        30 non-null     object\n",
      " 3   body_html     30 non-null     object\n",
      " 4   published_at  30 non-null     object\n",
      " 5   created_at    30 non-null     object\n",
      " 6   updated_at    30 non-null     object\n",
      " 7   vendor        30 non-null     object\n",
      " 8   product_type  30 non-null     object\n",
      " 9   tags          30 non-null     object\n",
      " 10  variants      30 non-null     object\n",
      " 11  images        30 non-null     object\n",
      " 12  options       30 non-null     object\n",
      "dtypes: int64(1), object(12)\n",
      "memory usage: 3.2+ KB\n"
     ]
    }
   ],
   "source": [
    "# explore marine layer\n",
    "marine_df = pd.DataFrame(marine_layer['products'])\n",
    "marine_df.info()"
   ]
  },
  {
   "cell_type": "code",
   "execution_count": 20,
   "metadata": {},
   "outputs": [
    {
     "name": "stdout",
     "output_type": "stream",
     "text": [
      "<class 'pandas.core.frame.DataFrame'>\n",
      "RangeIndex: 30 entries, 0 to 29\n",
      "Data columns (total 13 columns):\n",
      " #   Column        Non-Null Count  Dtype \n",
      "---  ------        --------------  ----- \n",
      " 0   id            30 non-null     int64 \n",
      " 1   title         30 non-null     object\n",
      " 2   handle        30 non-null     object\n",
      " 3   body_html     30 non-null     object\n",
      " 4   published_at  30 non-null     object\n",
      " 5   created_at    30 non-null     object\n",
      " 6   updated_at    30 non-null     object\n",
      " 7   vendor        30 non-null     object\n",
      " 8   product_type  30 non-null     object\n",
      " 9   tags          30 non-null     object\n",
      " 10  variants      30 non-null     object\n",
      " 11  images        30 non-null     object\n",
      " 12  options       30 non-null     object\n",
      "dtypes: int64(1), object(12)\n",
      "memory usage: 3.2+ KB\n"
     ]
    }
   ],
   "source": [
    "allbirds_df = pd.DataFrame(allbirds['products'])\n",
    "allbirds_df.info()"
   ]
  },
  {
   "cell_type": "code",
   "execution_count": null,
   "metadata": {},
   "outputs": [],
   "source": []
  }
 ],
 "metadata": {
  "kernelspec": {
   "display_name": "Python 3",
   "language": "python",
   "name": "python3"
  },
  "language_info": {
   "codemirror_mode": {
    "name": "ipython",
    "version": 3
   },
   "file_extension": ".py",
   "mimetype": "text/x-python",
   "name": "python",
   "nbconvert_exporter": "python",
   "pygments_lexer": "ipython3",
   "version": "3.8.8"
  }
 },
 "nbformat": 4,
 "nbformat_minor": 1
}
